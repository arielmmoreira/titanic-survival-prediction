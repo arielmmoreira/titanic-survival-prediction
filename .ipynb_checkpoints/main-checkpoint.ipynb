{
 "cells": [
  {
   "cell_type": "markdown",
   "id": "5c512429",
   "metadata": {},
   "source": [
    "# 1. Introdução"
   ]
  },
  {
   "cell_type": "markdown",
   "id": "ce33f2af",
   "metadata": {},
   "source": [
    "<p style='text-align: justify;'>\n",
    "Esta análise tem como tema um desafio proposto na plataforma kaggle. \n",
    "\n",
    "O desafio é baseado na história do naufrágio do Titanic, ocorrido no ano de 1912. Sabemos que 1502, entre passageiros e tripulantes, de um total de 2224 morreram no acidente.\n",
    "\n",
    "O objetivo é criar um modelo preditivo que busque um padrão nos dados e indique que tipo de pessoa sobreviveria ao acidente.\n",
    "</p>"
   ]
  },
  {
   "cell_type": "markdown",
   "id": "7f033bbd",
   "metadata": {},
   "source": [
    "<b>Hipóteses</b>"
   ]
  },
  {
   "cell_type": "markdown",
   "id": "46f40ee1",
   "metadata": {},
   "source": [
    "- Fatores indicativos de sobrevivência:\n",
    "    - Gênero\n",
    "    - Idade\n",
    "    - Classe econômica\n",
    "\n",
    "\n",
    "- Além dos fatores únicos de sobrevivência, qual a relação entre eles? Ao combinarmos gênero e idade, por exemplo, algum deles pode ter mais peso do que o outro?"
   ]
  },
  {
   "cell_type": "markdown",
   "id": "5351461c",
   "metadata": {},
   "source": [
    "# 2. Importação de bibliotecas"
   ]
  },
  {
   "cell_type": "code",
   "execution_count": 1,
   "id": "1327caa7",
   "metadata": {},
   "outputs": [],
   "source": [
    "import numpy as np\n",
    "import pandas as pd\n",
    "import seaborn as sns\n",
    "import matplotlib.pyplot as plt\n",
    "\n",
    "plt.style.use('ggplot')"
   ]
  },
  {
   "cell_type": "markdown",
   "id": "df21e3e3",
   "metadata": {},
   "source": [
    "# 3. Exploração dos datasets"
   ]
  },
  {
   "cell_type": "markdown",
   "id": "79542680",
   "metadata": {},
   "source": [
    "## 3.1 Train"
   ]
  },
  {
   "cell_type": "markdown",
   "id": "0d825d3e",
   "metadata": {},
   "source": [
    "Dataset de treino. Será a base para o treino dos modelos de machine learning"
   ]
  },
  {
   "cell_type": "code",
   "execution_count": 2,
   "id": "a0c259eb",
   "metadata": {},
   "outputs": [
    {
     "data": {
      "text/html": [
       "<div>\n",
       "<style scoped>\n",
       "    .dataframe tbody tr th:only-of-type {\n",
       "        vertical-align: middle;\n",
       "    }\n",
       "\n",
       "    .dataframe tbody tr th {\n",
       "        vertical-align: top;\n",
       "    }\n",
       "\n",
       "    .dataframe thead th {\n",
       "        text-align: right;\n",
       "    }\n",
       "</style>\n",
       "<table border=\"1\" class=\"dataframe\">\n",
       "  <thead>\n",
       "    <tr style=\"text-align: right;\">\n",
       "      <th></th>\n",
       "      <th>PassengerId</th>\n",
       "      <th>Survived</th>\n",
       "      <th>Pclass</th>\n",
       "      <th>Name</th>\n",
       "      <th>Sex</th>\n",
       "      <th>Age</th>\n",
       "      <th>SibSp</th>\n",
       "      <th>Parch</th>\n",
       "      <th>Ticket</th>\n",
       "      <th>Fare</th>\n",
       "      <th>Cabin</th>\n",
       "      <th>Embarked</th>\n",
       "    </tr>\n",
       "  </thead>\n",
       "  <tbody>\n",
       "    <tr>\n",
       "      <th>726</th>\n",
       "      <td>727</td>\n",
       "      <td>1</td>\n",
       "      <td>2</td>\n",
       "      <td>Renouf, Mrs. Peter Henry (Lillian Jefferys)</td>\n",
       "      <td>female</td>\n",
       "      <td>30.00</td>\n",
       "      <td>3</td>\n",
       "      <td>0</td>\n",
       "      <td>31027</td>\n",
       "      <td>21.0000</td>\n",
       "      <td>NaN</td>\n",
       "      <td>S</td>\n",
       "    </tr>\n",
       "    <tr>\n",
       "      <th>501</th>\n",
       "      <td>502</td>\n",
       "      <td>0</td>\n",
       "      <td>3</td>\n",
       "      <td>Canavan, Miss. Mary</td>\n",
       "      <td>female</td>\n",
       "      <td>21.00</td>\n",
       "      <td>0</td>\n",
       "      <td>0</td>\n",
       "      <td>364846</td>\n",
       "      <td>7.7500</td>\n",
       "      <td>NaN</td>\n",
       "      <td>Q</td>\n",
       "    </tr>\n",
       "    <tr>\n",
       "      <th>644</th>\n",
       "      <td>645</td>\n",
       "      <td>1</td>\n",
       "      <td>3</td>\n",
       "      <td>Baclini, Miss. Eugenie</td>\n",
       "      <td>female</td>\n",
       "      <td>0.75</td>\n",
       "      <td>2</td>\n",
       "      <td>1</td>\n",
       "      <td>2666</td>\n",
       "      <td>19.2583</td>\n",
       "      <td>NaN</td>\n",
       "      <td>C</td>\n",
       "    </tr>\n",
       "    <tr>\n",
       "      <th>89</th>\n",
       "      <td>90</td>\n",
       "      <td>0</td>\n",
       "      <td>3</td>\n",
       "      <td>Celotti, Mr. Francesco</td>\n",
       "      <td>male</td>\n",
       "      <td>24.00</td>\n",
       "      <td>0</td>\n",
       "      <td>0</td>\n",
       "      <td>343275</td>\n",
       "      <td>8.0500</td>\n",
       "      <td>NaN</td>\n",
       "      <td>S</td>\n",
       "    </tr>\n",
       "    <tr>\n",
       "      <th>80</th>\n",
       "      <td>81</td>\n",
       "      <td>0</td>\n",
       "      <td>3</td>\n",
       "      <td>Waelens, Mr. Achille</td>\n",
       "      <td>male</td>\n",
       "      <td>22.00</td>\n",
       "      <td>0</td>\n",
       "      <td>0</td>\n",
       "      <td>345767</td>\n",
       "      <td>9.0000</td>\n",
       "      <td>NaN</td>\n",
       "      <td>S</td>\n",
       "    </tr>\n",
       "  </tbody>\n",
       "</table>\n",
       "</div>"
      ],
      "text/plain": [
       "     PassengerId  Survived  Pclass  \\\n",
       "726          727         1       2   \n",
       "501          502         0       3   \n",
       "644          645         1       3   \n",
       "89            90         0       3   \n",
       "80            81         0       3   \n",
       "\n",
       "                                            Name     Sex    Age  SibSp  Parch  \\\n",
       "726  Renouf, Mrs. Peter Henry (Lillian Jefferys)  female  30.00      3      0   \n",
       "501                          Canavan, Miss. Mary  female  21.00      0      0   \n",
       "644                       Baclini, Miss. Eugenie  female   0.75      2      1   \n",
       "89                        Celotti, Mr. Francesco    male  24.00      0      0   \n",
       "80                          Waelens, Mr. Achille    male  22.00      0      0   \n",
       "\n",
       "     Ticket     Fare Cabin Embarked  \n",
       "726   31027  21.0000   NaN        S  \n",
       "501  364846   7.7500   NaN        Q  \n",
       "644    2666  19.2583   NaN        C  \n",
       "89   343275   8.0500   NaN        S  \n",
       "80   345767   9.0000   NaN        S  "
      ]
     },
     "execution_count": 2,
     "metadata": {},
     "output_type": "execute_result"
    }
   ],
   "source": [
    "train_data = pd.read_csv('./datasets/train.csv')\n",
    "train_data.sample(5)"
   ]
  },
  {
   "cell_type": "code",
   "execution_count": 3,
   "id": "2d191637",
   "metadata": {},
   "outputs": [
    {
     "name": "stdout",
     "output_type": "stream",
     "text": [
      "<class 'pandas.core.frame.DataFrame'>\n",
      "RangeIndex: 891 entries, 0 to 890\n",
      "Data columns (total 12 columns):\n",
      " #   Column       Non-Null Count  Dtype  \n",
      "---  ------       --------------  -----  \n",
      " 0   PassengerId  891 non-null    int64  \n",
      " 1   Survived     891 non-null    int64  \n",
      " 2   Pclass       891 non-null    int64  \n",
      " 3   Name         891 non-null    object \n",
      " 4   Sex          891 non-null    object \n",
      " 5   Age          714 non-null    float64\n",
      " 6   SibSp        891 non-null    int64  \n",
      " 7   Parch        891 non-null    int64  \n",
      " 8   Ticket       891 non-null    object \n",
      " 9   Fare         891 non-null    float64\n",
      " 10  Cabin        204 non-null    object \n",
      " 11  Embarked     889 non-null    object \n",
      "dtypes: float64(2), int64(5), object(5)\n",
      "memory usage: 83.7+ KB\n"
     ]
    }
   ],
   "source": [
    "train_data.info()"
   ]
  },
  {
   "cell_type": "markdown",
   "id": "31acaf28",
   "metadata": {},
   "source": [
    "Aqui constatamos que as colunas 'Age', 'Cabin' e 'Embarked' contêm registros nulos. Faremos o tratamento posteriormente."
   ]
  },
  {
   "cell_type": "markdown",
   "id": "f9ec7b78",
   "metadata": {},
   "source": [
    "| Variável     | Definição                                  | Valores                                          |\n",
    "| :---         |    :----                                   |          :---                                    |\n",
    "| survived     | Indica se a pessoa sobreviveu              | 0 = Não, 1 = Sim                                 |\n",
    "| pclass       | Classe do passageiro                       | 1 = 1a, 2 = 2a, 3 = 3a                           |\n",
    "| sex          | Sexo                                       |                                                  |\n",
    "| Age          | Idade em anos                              |                                                  |\n",
    "| sibsp        | Quantidade de irmão / cônjuge a bordo      |                                                  |\n",
    "| parch        | Quantidade de pais / filhos a bordoTitanic |                                                  |\n",
    "| ticket       | Número da passagem                         |                                                  |\n",
    "| fare         | Preço                                      |                                                  |\n",
    "| cabin        | Número da cabine                           |                                                  |\n",
    "| embarked     | Porto de embarque                          |  C = Cherbourg, Q = Queenstown, S = Southampton  |"
   ]
  },
  {
   "cell_type": "markdown",
   "id": "007e9b7b",
   "metadata": {},
   "source": [
    "<b><u>Variáveis por tipo</u></b>\n",
    "\n",
    "<b>Numérica</b>\n",
    "\n",
    "<i>Contínua</i>\n",
    "\n",
    "    - Age\n",
    "    - Fare\n",
    "\n",
    "<i>Discreta</i>\n",
    "\n",
    "    - Sibsp\n",
    "    - Parch\n",
    "\n",
    "<b>Categórica</b>\n",
    "\n",
    "<i>Nominal</i>\n",
    "\n",
    "    - Sex\n",
    "    - Name\n",
    "    - PassengerID\n",
    "    - Cabin\n",
    "    - Embarked\n",
    "    - Ticket\n",
    "\n",
    "<i>Ordinal</i>\n",
    "\n",
    "    - Pclass\n",
    "    \n",
    "<i>Binária</i>\n",
    "\n",
    "    - Survived"
   ]
  },
  {
   "cell_type": "markdown",
   "id": "a993b69e",
   "metadata": {},
   "source": [
    "## 3.2 Test"
   ]
  },
  {
   "cell_type": "markdown",
   "id": "d635f5e0",
   "metadata": {},
   "source": [
    "<p style='text-align: justify;'>\n",
    "Dataset de teste. Será utilizado para avaliação do nosso modelo. Tem a mesma estrutura do que o dataset de treino exceto pela coluna 'Survived' que está faltando (justamente a coluna que iremos prever).\n",
    "</p>"
   ]
  },
  {
   "cell_type": "code",
   "execution_count": 4,
   "id": "8f42e0af",
   "metadata": {},
   "outputs": [
    {
     "data": {
      "text/html": [
       "<div>\n",
       "<style scoped>\n",
       "    .dataframe tbody tr th:only-of-type {\n",
       "        vertical-align: middle;\n",
       "    }\n",
       "\n",
       "    .dataframe tbody tr th {\n",
       "        vertical-align: top;\n",
       "    }\n",
       "\n",
       "    .dataframe thead th {\n",
       "        text-align: right;\n",
       "    }\n",
       "</style>\n",
       "<table border=\"1\" class=\"dataframe\">\n",
       "  <thead>\n",
       "    <tr style=\"text-align: right;\">\n",
       "      <th></th>\n",
       "      <th>PassengerId</th>\n",
       "      <th>Pclass</th>\n",
       "      <th>Name</th>\n",
       "      <th>Sex</th>\n",
       "      <th>Age</th>\n",
       "      <th>SibSp</th>\n",
       "      <th>Parch</th>\n",
       "      <th>Ticket</th>\n",
       "      <th>Fare</th>\n",
       "      <th>Cabin</th>\n",
       "      <th>Embarked</th>\n",
       "    </tr>\n",
       "  </thead>\n",
       "  <tbody>\n",
       "    <tr>\n",
       "      <th>195</th>\n",
       "      <td>1087</td>\n",
       "      <td>3</td>\n",
       "      <td>Karlsson, Mr. Julius Konrad Eugen</td>\n",
       "      <td>male</td>\n",
       "      <td>33.0</td>\n",
       "      <td>0</td>\n",
       "      <td>0</td>\n",
       "      <td>347465</td>\n",
       "      <td>7.8542</td>\n",
       "      <td>NaN</td>\n",
       "      <td>S</td>\n",
       "    </tr>\n",
       "    <tr>\n",
       "      <th>170</th>\n",
       "      <td>1062</td>\n",
       "      <td>3</td>\n",
       "      <td>Lithman, Mr. Simon</td>\n",
       "      <td>male</td>\n",
       "      <td>NaN</td>\n",
       "      <td>0</td>\n",
       "      <td>0</td>\n",
       "      <td>S.O./P.P. 251</td>\n",
       "      <td>7.5500</td>\n",
       "      <td>NaN</td>\n",
       "      <td>S</td>\n",
       "    </tr>\n",
       "    <tr>\n",
       "      <th>223</th>\n",
       "      <td>1115</td>\n",
       "      <td>3</td>\n",
       "      <td>Karlsson, Mr. Einar Gervasius</td>\n",
       "      <td>male</td>\n",
       "      <td>21.0</td>\n",
       "      <td>0</td>\n",
       "      <td>0</td>\n",
       "      <td>350053</td>\n",
       "      <td>7.7958</td>\n",
       "      <td>NaN</td>\n",
       "      <td>S</td>\n",
       "    </tr>\n",
       "    <tr>\n",
       "      <th>119</th>\n",
       "      <td>1011</td>\n",
       "      <td>2</td>\n",
       "      <td>Chapman, Mrs. John Henry (Sara Elizabeth Lawry)</td>\n",
       "      <td>female</td>\n",
       "      <td>29.0</td>\n",
       "      <td>1</td>\n",
       "      <td>0</td>\n",
       "      <td>SC/AH 29037</td>\n",
       "      <td>26.0000</td>\n",
       "      <td>NaN</td>\n",
       "      <td>S</td>\n",
       "    </tr>\n",
       "    <tr>\n",
       "      <th>105</th>\n",
       "      <td>997</td>\n",
       "      <td>3</td>\n",
       "      <td>Holthen, Mr. Johan Martin</td>\n",
       "      <td>male</td>\n",
       "      <td>28.0</td>\n",
       "      <td>0</td>\n",
       "      <td>0</td>\n",
       "      <td>C 4001</td>\n",
       "      <td>22.5250</td>\n",
       "      <td>NaN</td>\n",
       "      <td>S</td>\n",
       "    </tr>\n",
       "  </tbody>\n",
       "</table>\n",
       "</div>"
      ],
      "text/plain": [
       "     PassengerId  Pclass                                             Name  \\\n",
       "195         1087       3                Karlsson, Mr. Julius Konrad Eugen   \n",
       "170         1062       3                               Lithman, Mr. Simon   \n",
       "223         1115       3                    Karlsson, Mr. Einar Gervasius   \n",
       "119         1011       2  Chapman, Mrs. John Henry (Sara Elizabeth Lawry)   \n",
       "105          997       3                        Holthen, Mr. Johan Martin   \n",
       "\n",
       "        Sex   Age  SibSp  Parch         Ticket     Fare Cabin Embarked  \n",
       "195    male  33.0      0      0         347465   7.8542   NaN        S  \n",
       "170    male   NaN      0      0  S.O./P.P. 251   7.5500   NaN        S  \n",
       "223    male  21.0      0      0         350053   7.7958   NaN        S  \n",
       "119  female  29.0      1      0    SC/AH 29037  26.0000   NaN        S  \n",
       "105    male  28.0      0      0         C 4001  22.5250   NaN        S  "
      ]
     },
     "execution_count": 4,
     "metadata": {},
     "output_type": "execute_result"
    }
   ],
   "source": [
    "test_data = pd.read_csv('./datasets/test.csv')\n",
    "test_data.sample(5)"
   ]
  },
  {
   "cell_type": "markdown",
   "id": "0feedeea",
   "metadata": {},
   "source": [
    "## 3.3 Gender submission"
   ]
  },
  {
   "cell_type": "markdown",
   "id": "5a77dcda",
   "metadata": {},
   "source": [
    "<p style='text-align: justify;'>\n",
    "Esse dataset é o último que está presente nos dados disponibilizados pela plataforma kaggle para a realização do desafio. Ele representa o resultado de um modelo preditivo. Nesse caso é um modelo que prevê que todas as mulheres sobreviveram e os homens não. É um ponto de partida para avaliação dos nossos resultados. Nosso objetivo é criar modelos que sejam melhores do que essa predição.\n",
    "</p>"
   ]
  },
  {
   "cell_type": "code",
   "execution_count": 5,
   "id": "9df34c84",
   "metadata": {},
   "outputs": [
    {
     "data": {
      "text/html": [
       "<div>\n",
       "<style scoped>\n",
       "    .dataframe tbody tr th:only-of-type {\n",
       "        vertical-align: middle;\n",
       "    }\n",
       "\n",
       "    .dataframe tbody tr th {\n",
       "        vertical-align: top;\n",
       "    }\n",
       "\n",
       "    .dataframe thead th {\n",
       "        text-align: right;\n",
       "    }\n",
       "</style>\n",
       "<table border=\"1\" class=\"dataframe\">\n",
       "  <thead>\n",
       "    <tr style=\"text-align: right;\">\n",
       "      <th></th>\n",
       "      <th>PassengerId</th>\n",
       "      <th>Survived</th>\n",
       "    </tr>\n",
       "  </thead>\n",
       "  <tbody>\n",
       "    <tr>\n",
       "      <th>399</th>\n",
       "      <td>1291</td>\n",
       "      <td>0</td>\n",
       "    </tr>\n",
       "    <tr>\n",
       "      <th>402</th>\n",
       "      <td>1294</td>\n",
       "      <td>1</td>\n",
       "    </tr>\n",
       "    <tr>\n",
       "      <th>167</th>\n",
       "      <td>1059</td>\n",
       "      <td>0</td>\n",
       "    </tr>\n",
       "    <tr>\n",
       "      <th>41</th>\n",
       "      <td>933</td>\n",
       "      <td>0</td>\n",
       "    </tr>\n",
       "    <tr>\n",
       "      <th>260</th>\n",
       "      <td>1152</td>\n",
       "      <td>0</td>\n",
       "    </tr>\n",
       "  </tbody>\n",
       "</table>\n",
       "</div>"
      ],
      "text/plain": [
       "     PassengerId  Survived\n",
       "399         1291         0\n",
       "402         1294         1\n",
       "167         1059         0\n",
       "41           933         0\n",
       "260         1152         0"
      ]
     },
     "execution_count": 5,
     "metadata": {},
     "output_type": "execute_result"
    }
   ],
   "source": [
    "prediction_v1 = pd.read_csv('./datasets/gender_submission.csv')\n",
    "prediction_v1.sample(5)"
   ]
  },
  {
   "cell_type": "markdown",
   "id": "9239c886",
   "metadata": {},
   "source": [
    "# 4. Análises estatísticas"
   ]
  },
  {
   "cell_type": "markdown",
   "id": "f21570a1",
   "metadata": {},
   "source": [
    "<b>Estimativas de localização</b>\n",
    "\n",
    "<p style='text-align: justify;'>\n",
    "É uma estimativa para definir um valor 'típico' para os dados. Indica onde a maioria dos dados está localizada.\n",
    "\n",
    "As estimativas mais comuns são a <b>média</b> e <b>mediana</b>, esta última sendo considerada uma medida mais robusta.\n",
    "\n",
    "Quando temos uma média maior do que a mediana, isso indica que temos mais dados com valores altos.\n",
    "</p>"
   ]
  },
  {
   "cell_type": "markdown",
   "id": "c0ba363b",
   "metadata": {},
   "source": [
    "<b>Estimativas de variabilidade</b>\n",
    "\n",
    "<p style='text-align: justify;'>\n",
    "Essa dimensão, também chamada de dispersão, mede se os valores de dados estão compactados ou espalhados.\n",
    "\n",
    "<u>Desvios</u>: diferença entre os valores observados e a estimativa de localização.\n",
    "\n",
    "<u>Variância</u>: soma dos quadrados dos desvios da média, divididos por n - 1, sendo n a quantidade de valores.\n",
    "\n",
    "<u>Desvio-padrão</u>: raiz quadrada da variância.\n",
    "</p>"
   ]
  },
  {
   "cell_type": "markdown",
   "id": "7f4fbbcf",
   "metadata": {},
   "source": [
    "## 4.1 Análise univariada"
   ]
  },
  {
   "cell_type": "code",
   "execution_count": 6,
   "id": "ee548405",
   "metadata": {},
   "outputs": [
    {
     "data": {
      "text/html": [
       "<div>\n",
       "<style scoped>\n",
       "    .dataframe tbody tr th:only-of-type {\n",
       "        vertical-align: middle;\n",
       "    }\n",
       "\n",
       "    .dataframe tbody tr th {\n",
       "        vertical-align: top;\n",
       "    }\n",
       "\n",
       "    .dataframe thead th {\n",
       "        text-align: right;\n",
       "    }\n",
       "</style>\n",
       "<table border=\"1\" class=\"dataframe\">\n",
       "  <thead>\n",
       "    <tr style=\"text-align: right;\">\n",
       "      <th></th>\n",
       "      <th>Age</th>\n",
       "      <th>Fare</th>\n",
       "      <th>SibSp</th>\n",
       "      <th>Parch</th>\n",
       "    </tr>\n",
       "  </thead>\n",
       "  <tbody>\n",
       "    <tr>\n",
       "      <th>count</th>\n",
       "      <td>714.000000</td>\n",
       "      <td>891.000000</td>\n",
       "      <td>891.000000</td>\n",
       "      <td>891.000000</td>\n",
       "    </tr>\n",
       "    <tr>\n",
       "      <th>mean</th>\n",
       "      <td>29.699118</td>\n",
       "      <td>32.204208</td>\n",
       "      <td>0.523008</td>\n",
       "      <td>0.381594</td>\n",
       "    </tr>\n",
       "    <tr>\n",
       "      <th>std</th>\n",
       "      <td>14.526497</td>\n",
       "      <td>49.693429</td>\n",
       "      <td>1.102743</td>\n",
       "      <td>0.806057</td>\n",
       "    </tr>\n",
       "    <tr>\n",
       "      <th>min</th>\n",
       "      <td>0.420000</td>\n",
       "      <td>0.000000</td>\n",
       "      <td>0.000000</td>\n",
       "      <td>0.000000</td>\n",
       "    </tr>\n",
       "    <tr>\n",
       "      <th>25%</th>\n",
       "      <td>20.125000</td>\n",
       "      <td>7.910400</td>\n",
       "      <td>0.000000</td>\n",
       "      <td>0.000000</td>\n",
       "    </tr>\n",
       "    <tr>\n",
       "      <th>50%</th>\n",
       "      <td>28.000000</td>\n",
       "      <td>14.454200</td>\n",
       "      <td>0.000000</td>\n",
       "      <td>0.000000</td>\n",
       "    </tr>\n",
       "    <tr>\n",
       "      <th>75%</th>\n",
       "      <td>38.000000</td>\n",
       "      <td>31.000000</td>\n",
       "      <td>1.000000</td>\n",
       "      <td>0.000000</td>\n",
       "    </tr>\n",
       "    <tr>\n",
       "      <th>max</th>\n",
       "      <td>80.000000</td>\n",
       "      <td>512.329200</td>\n",
       "      <td>8.000000</td>\n",
       "      <td>6.000000</td>\n",
       "    </tr>\n",
       "  </tbody>\n",
       "</table>\n",
       "</div>"
      ],
      "text/plain": [
       "              Age        Fare       SibSp       Parch\n",
       "count  714.000000  891.000000  891.000000  891.000000\n",
       "mean    29.699118   32.204208    0.523008    0.381594\n",
       "std     14.526497   49.693429    1.102743    0.806057\n",
       "min      0.420000    0.000000    0.000000    0.000000\n",
       "25%     20.125000    7.910400    0.000000    0.000000\n",
       "50%     28.000000   14.454200    0.000000    0.000000\n",
       "75%     38.000000   31.000000    1.000000    0.000000\n",
       "max     80.000000  512.329200    8.000000    6.000000"
      ]
     },
     "execution_count": 6,
     "metadata": {},
     "output_type": "execute_result"
    }
   ],
   "source": [
    "train_data[[\"Age\", \"Fare\", \"SibSp\", \"Parch\"]].describe()"
   ]
  },
  {
   "cell_type": "markdown",
   "id": "01f0edaf",
   "metadata": {},
   "source": [
    "<b>Visualização da distribuição dos dados</b>\n",
    "\n",
    "<p style='text-align: justify;'>\n",
    "Nessa visualização, utilizando boxplots, temos que as partes superior e inferior da caixa são o 75º e 25º percentis, respectivamente. As linhas que se estendem acima e abaixo da caixa, até finalizar com uma linha horizontal, representam os limites inferior e superior. Os círculos para além dessse limite representam dados discrepantes, ou outliers, e são identificados quando estão 1,5x acima ou abaixo do intervalo interquartílico, que é a diferença entre os percentis 75º e 25º.</p>"
   ]
  },
  {
   "cell_type": "code",
   "execution_count": 7,
   "id": "7994e8c5",
   "metadata": {},
   "outputs": [
    {
     "data": {
      "image/png": "[encoded data removed]",
      "text/plain": [
       "<Figure size 432x432 with 1 Axes>"
      ]
     },
     "metadata": {},
     "output_type": "display_data"
    }
   ],
   "source": [
    "fig, ax = plt.subplots(figsize=(6, 6))\n",
    "sns.boxplot(data=train_data[\"Age\"], ax=ax);\n",
    "plt.title(\"Boxplot de idade\");"
   ]
  },
  {
   "cell_type": "markdown",
   "id": "c4123ab0",
   "metadata": {},
   "source": [
    "<p style='text-align: justify;'>\n",
    "Aqui temos que 25% das pessoas têm idade até 20 anos. Já 75% delas têm até 65 anos, aproximadamente. A mediana está por volta de 28 anos. Essa variável se aproxima de uma distribuição normal.\n",
    "\n",
    "<u>Outliers</u>: idades acima de 65 anos\n",
    "</p>"
   ]
  },
  {
   "cell_type": "code",
   "execution_count": 8,
   "id": "2a94f6b7",
   "metadata": {},
   "outputs": [
    {
     "data": {
      "image/png": "[encoded data removed]",
      "text/plain": [
       "<Figure size 432x432 with 1 Axes>"
      ]
     },
     "metadata": {},
     "output_type": "display_data"
    }
   ],
   "source": [
    "fig, ax = plt.subplots(figsize=(6, 6))\n",
    "sns.boxplot(data=train_data[\"Fare\"], ax=ax);\n",
    "plt.title(\"Boxplot do preço da passagem\");"
   ]
  },
  {
   "cell_type": "markdown",
   "id": "44ff2a9b",
   "metadata": {},
   "source": [
    "<p style='text-align: justify;'>\n",
    "Pela configuração do boxplot do preço da passagem podemos perceber que a variável 'Fare' não segue uma distribuição normal. Existe uma maior concentração de registro com valores pequenos e poucos com valores altos.\n",
    "</p>"
   ]
  },
  {
   "cell_type": "markdown",
   "id": "33661cad",
   "metadata": {},
   "source": [
    "<p style='text-align: justify;'>\n",
    "As análises acima são referentes a variáveis numéricas. Para variáveis categóricas utilizamos outras métricas, como a <b>moda</b>, que indica o valor, ou valores, que aparece com mais frequência nos dados.\n",
    "</p>"
   ]
  },
  {
   "cell_type": "code",
   "execution_count": 9,
   "id": "d0f159ac",
   "metadata": {},
   "outputs": [
    {
     "data": {
      "text/html": [
       "<div>\n",
       "<style scoped>\n",
       "    .dataframe tbody tr th:only-of-type {\n",
       "        vertical-align: middle;\n",
       "    }\n",
       "\n",
       "    .dataframe tbody tr th {\n",
       "        vertical-align: top;\n",
       "    }\n",
       "\n",
       "    .dataframe thead th {\n",
       "        text-align: right;\n",
       "    }\n",
       "</style>\n",
       "<table border=\"1\" class=\"dataframe\">\n",
       "  <thead>\n",
       "    <tr style=\"text-align: right;\">\n",
       "      <th></th>\n",
       "      <th>Pclass</th>\n",
       "      <th>Sex</th>\n",
       "      <th>Embarked</th>\n",
       "      <th>Survived</th>\n",
       "    </tr>\n",
       "  </thead>\n",
       "  <tbody>\n",
       "    <tr>\n",
       "      <th>0</th>\n",
       "      <td>3</td>\n",
       "      <td>male</td>\n",
       "      <td>S</td>\n",
       "      <td>0</td>\n",
       "    </tr>\n",
       "  </tbody>\n",
       "</table>\n",
       "</div>"
      ],
      "text/plain": [
       "   Pclass   Sex Embarked  Survived\n",
       "0       3  male        S         0"
      ]
     },
     "execution_count": 9,
     "metadata": {},
     "output_type": "execute_result"
    }
   ],
   "source": [
    "train_data[[\"Pclass\", \"Sex\", \"Embarked\", \"Survived\"]].mode()"
   ]
  },
  {
   "cell_type": "code",
   "execution_count": 10,
   "id": "0c4032bf",
   "metadata": {},
   "outputs": [
    {
     "data": {
      "image/png": "[encoded data removed]",
      "text/plain": [
       "<Figure size 432x432 with 1 Axes>"
      ]
     },
     "metadata": {},
     "output_type": "display_data"
    }
   ],
   "source": [
    "train_data[\"Pclass\"].value_counts().plot(kind='bar', figsize=(6,6));\n",
    "plt.xticks(rotation=0, horizontalalignment=\"center\");\n",
    "plt.title(\"Quantidade por classe\");\n"
   ]
  },
  {
   "cell_type": "code",
   "execution_count": 11,
   "id": "c17c8a64",
   "metadata": {
    "scrolled": false
   },
   "outputs": [
    {
     "data": {
      "image/png": "[encoded data removed]",
      "text/plain": [
       "<Figure size 432x432 with 1 Axes>"
      ]
     },
     "metadata": {},
     "output_type": "display_data"
    }
   ],
   "source": [
    "train_data[\"Sex\"].value_counts().plot(kind='bar', figsize=(6,6));\n",
    "plt.xticks(rotation=0, horizontalalignment=\"center\");\n",
    "plt.title(\"Quantidade por sexo\");"
   ]
  },
  {
   "cell_type": "code",
   "execution_count": 12,
   "id": "bcd911bb",
   "metadata": {
    "scrolled": false
   },
   "outputs": [
    {
     "data": {
      "image/png": "[encoded data removed]",
      "text/plain": [
       "<Figure size 432x432 with 1 Axes>"
      ]
     },
     "metadata": {},
     "output_type": "display_data"
    }
   ],
   "source": [
    "train_data[\"Embarked\"].value_counts().plot(kind='bar', figsize=(6,6));\n",
    "plt.xticks(rotation=0, horizontalalignment=\"center\");\n",
    "plt.title(\"Quantidade por porto de embarque\");"
   ]
  },
  {
   "cell_type": "code",
   "execution_count": 13,
   "id": "8c38ccdd",
   "metadata": {
    "scrolled": false
   },
   "outputs": [
    {
     "data": {
      "image/png": "[encoded data removed]",
      "text/plain": [
       "<Figure size 432x432 with 1 Axes>"
      ]
     },
     "metadata": {},
     "output_type": "display_data"
    }
   ],
   "source": [
    "train_data[\"Survived\"].value_counts().plot(kind='bar', figsize=(6,6));\n",
    "plt.xticks(rotation=0, horizontalalignment=\"center\");\n",
    "plt.title(\"Quantidade por sobrevivente\");"
   ]
  },
  {
   "cell_type": "markdown",
   "id": "0f2973a6",
   "metadata": {},
   "source": [
    "## 4.2 Análise bivariada"
   ]
  },
  {
   "cell_type": "markdown",
   "id": "02a0a20a",
   "metadata": {},
   "source": [
    "<p style=\"text-align: justify;\">\n",
    "    Para uma análise bivariada o que buscamos é a <b>correlação</b> entre preditores, ou entre preditores e uma variável-alvo, que no nosso caso é a variável \"Survived\". Uma das variáveis fica no eixo X e a outra no eixo Y. Elas serão consideradas correlacionadas se os valores altos de X refletirem valores altos de Y (correlação positiva), e valores baixos de X acompanharem valores baixos de Y (correlação negativa).\n",
    "    \n",
    "No nosso caso é mais interessante buscar uma relação entre preditores e a variável-alvo.\n",
    "</p>"
   ]
  },
  {
   "cell_type": "markdown",
   "id": "5c2ef3fd",
   "metadata": {},
   "source": [
    "<b>Gênero x Sobrevivência</b>"
   ]
  },
  {
   "cell_type": "code",
   "execution_count": 14,
   "id": "177dcd88",
   "metadata": {},
   "outputs": [
    {
     "data": {
      "image/png": "[encoded data removed]",
      "text/plain": [
       "<Figure size 432x432 with 1 Axes>"
      ]
     },
     "metadata": {},
     "output_type": "display_data"
    }
   ],
   "source": [
    "fig, ax = plt.subplots(figsize=(6, 6))\n",
    "sns.barplot(x=\"Sex\", y=\"Survived\", data=train_data);"
   ]
  },
  {
   "cell_type": "code",
   "execution_count": 15,
   "id": "7233f8de",
   "metadata": {},
   "outputs": [
    {
     "name": "stdout",
     "output_type": "stream",
     "text": [
      "Total de male: 577\n",
      "% que sobreviveu: 18.89\n",
      "# que sobreviveu: 109\n",
      "\n",
      "Total de female: 314\n",
      "% que sobreviveu: 74.2\n",
      "# que sobreviveu: 233\n",
      "\n"
     ]
    }
   ],
   "source": [
    "def gender_analysis(category):\n",
    "    gender = train_data.loc[train_data.Sex == category][\"Survived\"]\n",
    "    rate_gender = sum(gender) / len(gender)\n",
    "    print(f\"Total de {category}:\", len(gender))\n",
    "    print(\"% que sobreviveu:\", round(rate_gender * 100, 2))\n",
    "    print(\"# que sobreviveu:\", round(len(gender) * rate_gender))\n",
    "    print()\n",
    "\n",
    "\n",
    "for category in train_data[\"Sex\"].unique():\n",
    "    gender_analysis(category)"
   ]
  },
  {
   "cell_type": "markdown",
   "id": "f0462aba",
   "metadata": {},
   "source": [
    "<b>Classe x Sobrevivência</b>"
   ]
  },
  {
   "cell_type": "code",
   "execution_count": 16,
   "id": "4d92e402",
   "metadata": {},
   "outputs": [
    {
     "data": {
      "image/png": "[encoded data removed]",
      "text/plain": [
       "<Figure size 432x432 with 1 Axes>"
      ]
     },
     "metadata": {},
     "output_type": "display_data"
    }
   ],
   "source": [
    "fig, ax = plt.subplots(figsize=(6, 6))\n",
    "sns.barplot(x=\"Pclass\", y=\"Survived\", data=train_data);"
   ]
  },
  {
   "cell_type": "code",
   "execution_count": 17,
   "id": "90d10bb4",
   "metadata": {
    "scrolled": false
   },
   "outputs": [
    {
     "name": "stdout",
     "output_type": "stream",
     "text": [
      "Total de passageiros da 3a classe: 491\n",
      "% de passageiros que sobreviveram: 24.24\n",
      "# de passageiros que sobreviveram: 119\n",
      "\n",
      "Total de passageiros da 1a classe: 216\n",
      "% de passageiros que sobreviveram: 62.96\n",
      "# de passageiros que sobreviveram: 136\n",
      "\n",
      "Total de passageiros da 2a classe: 184\n",
      "% de passageiros que sobreviveram: 47.28\n",
      "# de passageiros que sobreviveram: 87\n",
      "\n"
     ]
    }
   ],
   "source": [
    "def class_analysis(category):\n",
    "    pclass = train_data.loc[train_data.Pclass == category][\"Survived\"]\n",
    "    rate_pclass = sum(pclass) / len(pclass)\n",
    "    print(f\"Total de passageiros da {category}a classe:\", len(pclass))\n",
    "    print(\"% de passageiros que sobreviveram:\", round(rate_pclass * 100, 2))\n",
    "    print(\"# de passageiros que sobreviveram:\", round(len(pclass) * rate_pclass))\n",
    "    print()\n",
    "\n",
    "    \n",
    "for category in train_data[\"Pclass\"].unique():\n",
    "    class_analysis(category)"
   ]
  },
  {
   "cell_type": "markdown",
   "id": "da2aefc1",
   "metadata": {},
   "source": [
    "<b>Idade x Sobrevivência</b>"
   ]
  },
  {
   "cell_type": "code",
   "execution_count": 18,
   "id": "f6ea508a",
   "metadata": {
    "scrolled": false
   },
   "outputs": [
    {
     "data": {
      "image/png": "[encoded data removed]",
      "text/plain": [
       "<Figure size 576x432 with 1 Axes>"
      ]
     },
     "metadata": {},
     "output_type": "display_data"
    }
   ],
   "source": [
    "# Agrupamento de idade em 6 grupos\n",
    "number_of_bins = 6\n",
    "age_range = int(train_data[\"Age\"].max()) / number_of_bins\n",
    "tmp = [i * age_range for i in range(number_of_bins + 1)]\n",
    "labels = [f\"{int(tmp[i])}-{int(tmp[i + 1])}\" for i in range(number_of_bins)]\n",
    "\n",
    "train_data['Age_group'] = pd.cut(train_data['Age'], bins=number_of_bins, labels=labels)\n",
    "fig, ax = plt.subplots(figsize=(8, 6))\n",
    "sns.barplot(x=\"Age_group\", y=\"Survived\", data=train_data);"
   ]
  },
  {
   "cell_type": "code",
   "execution_count": 19,
   "id": "85880d65",
   "metadata": {},
   "outputs": [
    {
     "name": "stdout",
     "output_type": "stream",
     "text": [
      "Total de passageiros com idade entre 0-13 anos: 71\n",
      "% de passageiros que sobreviveram: 59.15\n",
      "# de passageiros que sobreviveram: 42\n",
      "\n",
      "Total de passageiros com idade entre 13-26 anos: 248\n",
      "% de passageiros que sobreviveram: 35.48\n",
      "# de passageiros que sobreviveram: 88\n",
      "\n",
      "Total de passageiros com idade entre 26-40 anos: 245\n",
      "% de passageiros que sobreviveram: 42.86\n",
      "# de passageiros que sobreviveram: 105\n",
      "\n",
      "Total de passageiros com idade entre 40-53 anos: 100\n",
      "% de passageiros que sobreviveram: 39.0\n",
      "# de passageiros que sobreviveram: 39\n",
      "\n",
      "Total de passageiros com idade entre 53-66 anos: 43\n",
      "% de passageiros que sobreviveram: 34.88\n",
      "# de passageiros que sobreviveram: 15\n",
      "\n",
      "Total de passageiros com idade entre 66-80 anos: 7\n",
      "% de passageiros que sobreviveram: 14.29\n",
      "# de passageiros que sobreviveram: 1\n",
      "\n"
     ]
    }
   ],
   "source": [
    "def age_group_analysis(category):\n",
    "    age_group = train_data.loc[train_data.Age_group == category][\"Survived\"]\n",
    "    rate_age_group = sum(age_group) / len(age_group)\n",
    "    print(f\"Total de passageiros com idade entre {category} anos:\", len(age_group))\n",
    "    print(\"% de passageiros que sobreviveram:\", round(rate_age_group * 100, 2))\n",
    "    print(\"# de passageiros que sobreviveram:\", round(len(age_group) * rate_age_group))\n",
    "    print()\n",
    "    \n",
    "for category in labels:\n",
    "    age_group_analysis(category)"
   ]
  },
  {
   "cell_type": "markdown",
   "id": "17aaae26",
   "metadata": {},
   "source": [
    "<p style=\"text-align: justify;\">\n",
    "Na análise bivariada feita anteriormente, a porcentagem que calculamos é baseada somente no próprio grupo em análise. Em outras palavras, dizer que 74,2% das mulheres sobreviveram não significa, necessariamente, que essa é a porcentagem de mulheres dentre os sobreviventes. Significa que do total de mulheres que embarcaram, 74,2% estão entre os passageiros sobreviventes. O que não muda é a quantidade: 233. A perspectiva é diferente, mas os resultados são parecidos, conforme vemos abaixo:\n",
    "</p>"
   ]
  },
  {
   "cell_type": "code",
   "execution_count": 20,
   "id": "5bb0925d",
   "metadata": {},
   "outputs": [
    {
     "name": "stdout",
     "output_type": "stream",
     "text": [
      "Dentre os sobreviventes\n",
      "\n",
      "Por sexo:\n",
      "  - 31.87% são male\n",
      "  - 68.13% são female\n",
      "\n",
      "  \n",
      "Por classe:\n",
      "  - 34.8% são da 3a classe\n",
      "  - 39.77% são da 1a classe\n",
      "  - 25.44% são da 2a classe\n",
      "\n",
      "  \n",
      "Por idade:\n",
      "  - 12.28% tem entre 0-13 anos\n",
      "  - 40.94% tem entre 13-26 anos\n",
      "  - 30.7% tem entre 26-40 anos\n",
      "  - 11.4% tem entre 40-53 anos\n",
      "  - 4.39% tem entre 53-66 anos\n",
      "  - 0.29% tem entre 66-80 anos\n",
      "\n",
      "\n"
     ]
    }
   ],
   "source": [
    "train_data[\"Age_group\"].fillna(train_data[\"Age_group\"].mode()[0], inplace=True)\n",
    "survivors = train_data.loc[train_data.Survived == 1][[\"Sex\", \"Age_group\", \"Pclass\", \"Survived\"]]\n",
    "\n",
    "def gender_survivors_analysis(category):\n",
    "    gender_survivors = survivors.loc[survivors.Sex == category][\"Survived\"]\n",
    "    return round(sum(gender_survivors) / len(survivors) * 100, 2)\n",
    "\n",
    "\n",
    "def pclass_survivors_analysis(category):\n",
    "    pclass_survivors = survivors.loc[survivors.Pclass == category][\"Survived\"]\n",
    "    return round(sum(pclass_survivors) / len(survivors) * 100, 2)\n",
    "\n",
    "\n",
    "def age_group_survivors_analysis(category):\n",
    "    age_group_survivors = survivors.loc[survivors.Age_group == category][\"Survived\"]\n",
    "    return round(sum(age_group_survivors) / len(survivors) * 100, 2)\n",
    "\n",
    "gender_survivors_analysis = [f\"  - {gender_survivors_analysis(category)}% são {category}\\n\" for category in train_data[\"Sex\"].unique()]\n",
    "pclass_survivors_analysis = [f\"  - {pclass_survivors_analysis(category)}% são da {category}a classe\\n\" for category in train_data[\"Pclass\"].unique()]\n",
    "age_group_survivors_analysis = [f\"  - {age_group_survivors_analysis(category)}% tem entre {category} anos\\n\" for category in labels]\n",
    "\n",
    "print(f\"\"\"Dentre os sobreviventes\n",
    "\n",
    "Por sexo:\n",
    "{''.join(map(str, gender_survivors_analysis))}\n",
    "  \n",
    "Por classe:\n",
    "{''.join(map(str, pclass_survivors_analysis))}\n",
    "  \n",
    "Por idade:\n",
    "{''.join(map(str, age_group_survivors_analysis))}\n",
    "\"\"\")\n"
   ]
  },
  {
   "cell_type": "markdown",
   "id": "29955fe6",
   "metadata": {},
   "source": [
    "Quais são os tipos de pessoas (por característica) que mais sobreviveram?"
   ]
  },
  {
   "cell_type": "code",
   "execution_count": 21,
   "id": "4b5bd0c3",
   "metadata": {
    "scrolled": false
   },
   "outputs": [
    {
     "data": {
      "text/plain": [
       "Sex     Age_group  Pclass  Survived\n",
       "female  13-26      3       1           48\n",
       "                   1       1           36\n",
       "        26-40      1       1           30\n",
       "                   2       1           29\n",
       "male    13-26      3       1           22\n",
       "dtype: int64"
      ]
     },
     "execution_count": 21,
     "metadata": {},
     "output_type": "execute_result"
    }
   ],
   "source": [
    "survivors.value_counts().head(5)"
   ]
  },
  {
   "cell_type": "markdown",
   "id": "d0192945",
   "metadata": {},
   "source": [
    "<p style=\"text-align: justify;\">\n",
    "Ao olhar para essa tabela é preciso tomar um cuidado. A quantidade de passageiros por variável, que sobreviveu, não indica exatamente quem tem maiores chances de sobreviver. Dito de outra forma: a maioria das pessoas que estão a bordo do navio são da terceira classe. É natural ter uma maior quantidade de passageiros <b>sobreviventes</b> que são da terceira classe. Mas quando olhamos para o total por classe, vemos que ela é quem indica a menor chance de sobrevivência.\n",
    "    \n",
    "Sendo assim, apesar de não ter as maiores chances individualmente, o passageiro que tem a maior quantidade de sobreviventes pode ser descrito da seguinte maneira: um passageiro do sexo feminino, com idade entre 13-26 anos a bordo 3a classe.\n",
    "    \n",
    "Sob outra perspectiva, o passageiro que tem as maiores chances de sobreviver olhando para as variáveis, pode ser descrito da seguinte maneira: um passageiro do sexo feminino, com idade entre 0-13 anos a bordo da 1a classe.\n",
    "</p>"
   ]
  },
  {
   "cell_type": "markdown",
   "id": "48cec385",
   "metadata": {},
   "source": [
    "# 5. Modelos preditivos"
   ]
  },
  {
   "cell_type": "markdown",
   "id": "713da07b",
   "metadata": {},
   "source": [
    "Em breve."
   ]
  }
 ],
 "metadata": {
  "kernelspec": {
   "display_name": "Python 3 (ipykernel)",
   "language": "python",
   "name": "python3"
  },
  "language_info": {
   "codemirror_mode": {
    "name": "ipython",
    "version": 3
   },
   "file_extension": ".py",
   "mimetype": "text/x-python",
   "name": "python",
   "nbconvert_exporter": "python",
   "pygments_lexer": "ipython3",
   "version": "3.9.12"
  }
 },
 "nbformat": 4,
 "nbformat_minor": 5
}
